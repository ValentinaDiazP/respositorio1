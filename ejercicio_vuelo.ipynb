{
 "cells": [
  {
   "cell_type": "markdown",
   "metadata": {},
   "source": [
    "### Ejemplo: Sistema de gestion de vuelos"
   ]
  },
  {
   "cell_type": "markdown",
   "metadata": {},
   "source": [
    "Se propone la creación de un sistema de reserva de vuelos. Para ello, se plantea el diseño de tres clases esenciales: \"Pasajero\", \"Vuelo\" y \"ReservaVuelos\".\n",
    "\n",
    "En la clase \"Pasajero\", se definen atributos como el nombre, apellido, edad y número de pasaporte. Además, se establece un método para mostrar la información del pasajero.\n",
    "\n",
    "La clase \"Vuelo\" incorpora atributos como el número de vuelo, origen, destino, capacidad total y asientos disponibles. Sus métodos de instancia permiten mostrar la información del vuelo, reservar asientos para pasajeros y cancelar dichas reservas, considerando la disponibilidad de asientos.\n",
    "\n",
    "La clase \"ReservaVuelos\" se encarga de gestionar la lista de vuelos disponibles, uno de sus atributos es el nombre de la aereolina a la que pertenece. Sus métodos incluyen la adición de vuelos a la lista, búsqueda de vuelos por número, presentación de vuelos disponibles, así como la realización y cancelación de reservas, asociando vuelos y pasajeros.\n",
    "\n",
    "El sistema también debe aplicar validaciones en los métodos para garantizar la exactitud de los datos ingresados y evitar reservas en exceso de la capacidad de asientos. En resumen, el sistema permite la administración integral de vuelos, reservas y pasajeros, asegurando la coherencia y la correcta gestión de información."
   ]
  },
  {
   "cell_type": "code",
   "execution_count": 21,
   "metadata": {},
   "outputs": [],
   "source": []
  },
  {
   "cell_type": "code",
   "execution_count": 24,
   "metadata": {},
   "outputs": [],
   "source": [
    "class Pasajero:\n",
    "    def __init__(self, nombre, apellido, edad, pasaporte):\n",
    "        self.nombre=nombre\n",
    "        self.apellido=apellido\n",
    "        self.edad=edad\n",
    "        self.pasaporte=pasaporte\n",
    "        reservaVuelos\n",
    "\n",
    "    def mostrarInformacion(self):\n",
    "        print(f\"El pasajero es: {self.nombre} {self.apellido}\")\n",
    "class Vuelo:\n",
    "    def __init__(self,numero,origen,destino,cantidad):\n",
    "        self.numeroVuelo=numero\n",
    "        self._origen=origen\n",
    "        self._destino=destino\n",
    "        self.cantidad=cantidad\n",
    "        self.asientosDisponibles=cantidad\n",
    "        self.reservas=[]\n",
    "        reservaVuelos.adicionVuelos(self)\n",
    "        #No olvidar dependendia\n",
    "\n",
    "    def mostrarInformacion(self):\n",
    "        print(f\"El vuelo número: {self.numeroVuelo} de {self._origen}/{self._destino} tiene {self.asientosDisponibles} asientos disponibles de {self.cantidad} \")\n",
    "\n",
    "    def reservaAsiento(self,pasajero): ##Relación de asociación\n",
    "        if pasajero in self.reservas:\n",
    "            print(f\"El usuario {pasajero.nombre} ya tiene una reserva en este vuelo\")\n",
    "        elif self.asientosDisponibles > 0:\n",
    "            self.reservas.append(pasajero)\n",
    "            self.asientosDisponibles-=1\n",
    "            print(f\"El usuario {pasajero.nombre} realizó una reserva\")\n",
    "        else:\n",
    "            print(\"No hay asientos disponibles\")\n",
    "    def removerAsiento(self,pasajero):#self de instancia\n",
    "        if pasajero in self.reservas:\n",
    "            self.reservas.remove(pasajero)\n",
    "            self.asientosDisponibles+=1\n",
    "            print(f\"El pasajero {pasajero.nombre} ha cancelado su rerva en el vuelo {self.reservaVuelo}\")\n",
    "        else:\n",
    "            print(f\"El pasjaero {pasajero.nombre} no tiene una reserva\")\n",
    "\n",
    "class reservaVuelos:\n",
    "    vuelos=[]                                                       # VARIABLE DE CLASE PARA QUE FUNCIONE CON EL MÉTODO DE CLASE\n",
    "    def __init__(self,aerolinea):\n",
    "        #SIEMPRE VA EL SELF\n",
    "        self.aerolinea=aerolinea\n",
    "    #metodos\n",
    "    @classmethod\n",
    "    def adicionVuelos(cls,vuelo):                                      #METODO DE CLASE\n",
    "        if vuelo in cls.vuelos:                                      #para acceder al atributo de clase pones cls\n",
    "            print(f\"El vuelo {vuelo.numeroVuelo} ya se ha agregado\")\n",
    "        else:\n",
    "            cls.vuelos.append(vuelo)\n",
    "            print(cls.vuelos)\n",
    "            print(\"Vuelo añadido\")\n",
    "\n",
    "    def busquedaVuelos(self, numero):\n",
    "        for i in reservaVuelos.vuelos:                                 #PARA METODO DE INSTANCIA SI SE USA UN ATRIBUTO DE CLASE\n",
    "            if i.numeroVuelo==numero:                                   #i.numeroVuelo\n",
    "                return i.mostrarInformacion()\n",
    "    \n",
    "    def vuelosDisponibles(self):\n",
    "        for j in reservaVuelos.vuelos:\n",
    "             print( j.mostrarInformacion())\n",
    "\n",
    "    def realizarReserva(self, pasajero, vuelo):\n",
    "        return vuelo.reservaAsiento(pasajero)\n",
    "    \n",
    "    def cancelarReserva(self,pasajero,vuelo):\n",
    "        return vuelo.reservaAsiento(pasajero)\n",
    "           \n",
    "\n",
    "                                                                      #HACER ALGO PARA QUE NO QUEDE EN BUCLE"
   ]
  },
  {
   "cell_type": "code",
   "execution_count": 11,
   "metadata": {},
   "outputs": [],
   "source": [
    "latam=reservaVuelos(\"Latam\")"
   ]
  },
  {
   "cell_type": "code",
   "execution_count": 12,
   "metadata": {},
   "outputs": [
    {
     "data": {
      "text/plain": [
       "'Latam'"
      ]
     },
     "execution_count": 12,
     "metadata": {},
     "output_type": "execute_result"
    }
   ],
   "source": [
    "latam.aerolinea"
   ]
  },
  {
   "cell_type": "code",
   "execution_count": 6,
   "metadata": {},
   "outputs": [],
   "source": [
    "pasajero1=Pasajero(\"Isa\",\"Ariza\",24,\"PA20989\")"
   ]
  },
  {
   "cell_type": "code",
   "execution_count": 4,
   "metadata": {},
   "outputs": [],
   "source": [
    "vuelo1=Vuelo(\"HK123\",\"Medellin\",\"Cartagena\",80)"
   ]
  },
  {
   "cell_type": "code",
   "execution_count": 8,
   "metadata": {},
   "outputs": [
    {
     "name": "stdout",
     "output_type": "stream",
     "text": [
      "El vuelo número: HK123 de Medellin/Cartagena tiene 80 asientos disponibles de 80 \n",
      "El usuario Isa realizó una reserva\n"
     ]
    }
   ],
   "source": [
    "vuelo1.mostrarInformacion()#no le pasa atributo pq solo pide el self y ya la info esta en vuelo1\n",
    "vuelo1.reservaAsiento(pasajero1)"
   ]
  },
  {
   "cell_type": "code",
   "execution_count": 25,
   "metadata": {},
   "outputs": [],
   "source": [
    "pasajero2=Pasajero(\"Juan\",\"Jimenez\",18,\"SPQPQ\")"
   ]
  },
  {
   "cell_type": "code",
   "execution_count": 26,
   "metadata": {},
   "outputs": [
    {
     "name": "stdout",
     "output_type": "stream",
     "text": [
      "El vuelo número: HK123 de Medellin/Cartagena tiene 79 asientos disponibles de 80 \n"
     ]
    }
   ],
   "source": [
    "vuelo1.mostrarInformacion()"
   ]
  },
  {
   "cell_type": "code",
   "execution_count": 27,
   "metadata": {},
   "outputs": [
    {
     "name": "stdout",
     "output_type": "stream",
     "text": [
      "El usuario Isa ya tiene una reserva en este vuelo\n"
     ]
    }
   ],
   "source": [
    "vuelo1.reservaAsiento(pasajero1)"
   ]
  },
  {
   "cell_type": "code",
   "execution_count": 28,
   "metadata": {},
   "outputs": [
    {
     "name": "stdout",
     "output_type": "stream",
     "text": [
      "El vuelo número: HK123 de Medellin/Cartagena tiene 79 asientos disponibles de 80 \n"
     ]
    }
   ],
   "source": [
    "vuelo1.mostrarInformacion()"
   ]
  },
  {
   "cell_type": "code",
   "execution_count": 29,
   "metadata": {},
   "outputs": [],
   "source": [
    "latam.busquedaVuelos(\"HK123\")"
   ]
  },
  {
   "cell_type": "code",
   "execution_count": 31,
   "metadata": {},
   "outputs": [],
   "source": [
    "latam.vuelosDisponibles()"
   ]
  },
  {
   "cell_type": "code",
   "execution_count": null,
   "metadata": {},
   "outputs": [],
   "source": []
  }
 ],
 "metadata": {
  "kernelspec": {
   "display_name": "Python 3",
   "language": "python",
   "name": "python3"
  },
  "language_info": {
   "codemirror_mode": {
    "name": "ipython",
    "version": 3
   },
   "file_extension": ".py",
   "mimetype": "text/x-python",
   "name": "python",
   "nbconvert_exporter": "python",
   "pygments_lexer": "ipython3",
   "version": "3.11.3"
  },
  "orig_nbformat": 4
 },
 "nbformat": 4,
 "nbformat_minor": 2
}
