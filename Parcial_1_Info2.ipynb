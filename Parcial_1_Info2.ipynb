{
 "cells": [
  {
   "cell_type": "markdown",
   "metadata": {},
   "source": [
    "\n",
    "<p align=\"center\"><img alt=\"udeA logo\" height=\"150px\" src=\"https://github.com/freddyduitama/images/blob/master/logo.png?raw=true\"></p><h1><font color='0B5345'> <center>\n",
    "\n",
    "Informática II\n",
    "\n",
    " </center></font></h1>\n",
    "<h2><font color='0B5345'> <center>\n",
    "Parcial I: Programación orientada a objetos</center></font></h2>\n",
    "<font  face=\"Courier New\" size=\"3\">\n",
    "\n",
    "<p3><center><b><font color='0B5345' face=\"Lucida Calligraphy,Comic Sans MS,Lucida Console\" size=\"5\">Universidad de Antioquia - Bioingeniería</font></b> </center></p3>\n",
    "\n"
   ]
  },
  {
   "cell_type": "markdown",
   "metadata": {},
   "source": [
    "\n",
    "Nombre estudiante 1: Julian Alberto David Goez\n",
    "\n",
    "Cédula estudiante 1:1035879371\n",
    "\n",
    "Nombre estudiante 2: Valentina Díaz Patiño\n",
    "\n",
    "Cédula estudiante 2: 1059810306"
   ]
  },
  {
   "cell_type": "markdown",
   "metadata": {},
   "source": [
    "Antes de iniciar leer cuidadosamente cada enunciado antes de responder y asegurarse de comprender completamente lo que se está solicitando. Además, preste atención a las instrucciones y seleccione la opción que consideres correcta en las preguntas de selección múltiple.\n",
    "\n",
    "¡Buena suerte!"
   ]
  },
  {
   "cell_type": "markdown",
   "metadata": {},
   "source": [
    "1. Describe qué es la encapsulación en programación orientada a objetos y por qué es importante en el desarrollo de software. (10%)"
   ]
  },
  {
   "cell_type": "markdown",
   "metadata": {},
   "source": [
    "    Es una forma de guardar la información ya sea de forma pública, protegida y privada. Es importante porque ayuda a determinar quien o que tan facil es acceder a la información de importante de una clase. Es decir, hacer que los atributos y los métodos solo sean manipulables dentro de las instancias de la clase."
   ]
  },
  {
   "cell_type": "markdown",
   "metadata": {},
   "source": [
    "2. ¿Qué palabra clave se utiliza en Python para definir una clase? (5%)\n",
    "\n",
    "    a) class\n",
    "\n",
    "    b) def\n",
    "\n",
    "    c) void\n",
    "    \n",
    "    d) function\n",
    "    "
   ]
  },
  {
   "cell_type": "markdown",
   "metadata": {},
   "source": [
    "a    "
   ]
  },
  {
   "cell_type": "markdown",
   "metadata": {},
   "source": [
    "3. Define qué es la herencia en POO y proporciona un ejemplo en Python que demuestre su uso. (Implementar código) (20%). \n",
    "\n",
    "    **Nota:** El ejemplo propuesto debe tener atributos de instancia y al menos un método funcional. (**No se pueden usar ejemplos de clase**)"
   ]
  },
  {
   "cell_type": "code",
   "execution_count": 2,
   "metadata": {},
   "outputs": [],
   "source": [
    "# La herencia permite reutilizar código previamente definido en una superclase.\n",
    "\n",
    "class Implantes:\n",
    "    def __init__(self, fechaImplantacion, medico, estado, material, IDpaciente):\n",
    "        self.fechaImplantacion= fechaImplantacion\n",
    "        self.medico= medico\n",
    "        self.estado= estado\n",
    "        self.material= material\n",
    "        self.IDpaciente = IDpaciente\n",
    "        self.revision= []  \n",
    "    def agregar_revision(self, fecha_revision):\n",
    "        self.__revision.append(fecha_revision)\n",
    "    def mostrar_revision(self):\n",
    "        if self.__revision:\n",
    "            print(\"Fechas de revisión: \")\n",
    "            for i in self.__revision:\n",
    "                print(i)\n",
    "        else:\n",
    "            print(\"No hay revisiones registradas. \")\n",
    "class Marcapasos(Implantes):\n",
    "    def __init__(self, fechaImplantacion, medico, estado, material, IDpaciente, electrodos, sistema, frecuencia_estimulacion):\n",
    "        super().__init__(fechaImplantacion, medico, estado, material, IDpaciente)\n",
    "        self.electrodos=electrodos\n",
    "        self.sistema=sistema\n",
    "        self.frecuencia_estimulacion=frecuencia_estimulacion"
   ]
  },
  {
   "cell_type": "markdown",
   "metadata": {},
   "source": [
    "4. ¿Cuál es el propósito principal del método constructor  _ _init__() en Python? (5%)\n",
    "\n",
    "    a) Definir los atributos de clase.\n",
    "    \n",
    "    b) Inicializar los atributos de instancia.\n",
    "    \n",
    "    c) Definir métodos de clase.\n",
    "    \n",
    "    d) Crear instancias de la clase.\n",
    "    "
   ]
  },
  {
   "cell_type": "markdown",
   "metadata": {},
   "source": [
    "    a"
   ]
  },
  {
   "cell_type": "markdown",
   "metadata": {},
   "source": [
    "5. Del siguiente código indique donde se evidencian relaciones entre clases (dependencia, asociación o herencia) (10%) \n",
    "\n",
    "    **Nota:** Puede comentar en el código donde están las relaciones."
   ]
  },
  {
   "cell_type": "code",
   "execution_count": null,
   "metadata": {},
   "outputs": [],
   "source": [
    "class lectorArchivos:\n",
    "    def crearArchivo(self, nombre_archivo, contenido):\n",
    "        try:\n",
    "            with open(nombre_archivo, 'w') as file:\n",
    "                file.write(contenido)\n",
    "            print(f\"Archivo '{nombre_archivo}' creado exitosamente.\")\n",
    "        except Exception as e:\n",
    "            print(f\"No se pudo crear el archivo '{nombre_archivo}': {e}\")\n",
    "\n",
    "    def leerArchivo(self, nombre_archivo):\n",
    "        try:\n",
    "            with open(nombre_archivo, 'r') as file:\n",
    "                contenido = file.read()\n",
    "                return contenido\n",
    "        except FileNotFoundError:\n",
    "            print(f\"El archivo '{nombre_archivo}' no existe.\")\n",
    "            return None\n",
    "\n",
    "class procesarDatos:\n",
    "    def procesarTexto(self, texto):\n",
    "        if texto:\n",
    "            return texto.upper()\n",
    "        else:\n",
    "            return \"No se pudo procesar el texto.\"\n",
    "\n",
    "class analizarDatos(procesarDatos):                                    #Relacion de herencia\n",
    "    def analizar(self, nombre_archivo):\n",
    "        lector = lectorArchivos()                                      #Relación de dependencia\n",
    "        texto = lector.leerArchivo(nombre_archivo)                     #Relación de asociación\n",
    "        if texto:\n",
    "            resultado = self.procesarTexto(texto)                      #Relación de asociación\n",
    "            print(\"Análisis completado:\")\n",
    "            print(resultado)\n",
    "        else:\n",
    "            print(\"No hay datos para analizar.\")\n",
    "\n",
    "# Ejemplo de uso\n",
    "nombre_archivo = \"datos.txt\"\n",
    "contenido = \"Este es un ejemplo de texto para el archivo.\"\n",
    "\n",
    "# Crear el archivo\n",
    "lector = lectorArchivos()\n",
    "lector.crearArchivo(nombre_archivo, contenido)\n",
    "\n",
    "# Analizar el archivo\n",
    "analizador = analizarDatos()\n",
    "analizador.analizar(nombre_archivo)"
   ]
  },
  {
   "cell_type": "markdown",
   "metadata": {},
   "source": [
    "6. A partir del siguiente programa basado en programación orientada a objetos responda las siguientes preguntas:"
   ]
  },
  {
   "cell_type": "code",
   "execution_count": null,
   "metadata": {},
   "outputs": [],
   "source": [
    "class cuentaBancaria:\n",
    "    def __init__(self, titular, saldo_inicial=0): #titular, saldo_inicial son atributos de instancia\n",
    "        self._titular = titular  \n",
    "        self.__saldo = saldo_inicial  \n",
    "\n",
    "    def depositar(self, cantidad):                #método de instancia, cantidad es un atributo de instancia\n",
    "        if cantidad > 0:\n",
    "            self.__saldo += cantidad\n",
    "            print(f\"Se han depositado {cantidad} en la cuenta de {self._titular}. Nuevo saldo: {self.__saldo}\")\n",
    "        else:\n",
    "            print(\"La cantidad a depositar debe ser mayor que 0.\")\n",
    "\n",
    "    def retirar(self, cantidad):                   #retirar es un método de instancia, cantidad un atributo de instancia\n",
    "        if 0 < cantidad <= self.__saldo:\n",
    "            self.__saldo -= cantidad\n",
    "            print(f\"Se han retirado {cantidad} de la cuenta de {self._titular}. Nuevo saldo: {self.__saldo}\")\n",
    "        else:\n",
    "            print(\"No se puede retirar la cantidad especificada. Verifique su saldo.\")\n",
    "\n",
    "    def consultarSaldo(self):                      #consultarSaldo es un método de instancia\n",
    "        print(f\"El saldo actual de la cuenta de {self._titular} es: {self.__saldo}\")\n",
    "\n",
    "\n",
    "# Ejemplo de uso\n",
    "cuenta = cuentaBancaria(\"Juan\", 1000)\n",
    "cuenta.consultarSaldo()\n",
    "cuenta.depositar(500)\n",
    "cuenta.retirar(200)\n"
   ]
  },
  {
   "cell_type": "markdown",
   "metadata": {},
   "source": [
    "6.1 ¿Qué significa que el atributo _titular esté marcado como protegido en la clase CuentaBancaria? (5%)\n",
    "\n",
    "a) Solo los métodos dentro de la clase pueden acceder y modificar el atributo _titular.\n",
    "    \n",
    "b) El atributo _titular se puede acceder y modificar desde fuera de la clase, pero se considera una convención que indica que no debe ser modificado directamente por usuarios de la clase.\n",
    "    \n",
    "c) El atributo _titular no se puede acceder directamente desde fuera de la clase.\n",
    "    \n",
    "d) El atributo _titular solo se puede acceder desde fuera de la clase."
   ]
  },
  {
   "cell_type": "markdown",
   "metadata": {},
   "source": [
    "b"
   ]
  },
  {
   "cell_type": "markdown",
   "metadata": {},
   "source": [
    "6.2 ¿Qué significa que el atributo __saldo esté marcado como privado en la clase CuentaBancaria? (5%)\n",
    "\n",
    "a) El atributo __saldo se puede acceder directamente desde fuera de la clase.\n",
    "\n",
    "b) Solo los métodos dentro de la clase pueden acceder y modificar el atributo __saldo.\n",
    "\n",
    "c) El atributo __saldo se puede acceder y modificar desde cualquier parte del código.\n",
    "\n",
    "d) El atributo __saldo es visible y modificable desde fuera de la clase."
   ]
  },
  {
   "cell_type": "markdown",
   "metadata": {},
   "source": [
    "b"
   ]
  },
  {
   "cell_type": "markdown",
   "metadata": {},
   "source": [
    "6.3 ¿Qué importancia tiene el encapsulamiento en el contexto de la clase CuentaBancaria? (5%)\n",
    "\n",
    "a) Protege los datos sensibles dentro de la clase y permite acceder a ellos desde fuera de la clase.\n",
    "\n",
    "b) Protege los datos sensibles dentro de la clase y restringe el acceso desde fuera de la clase.\n",
    "\n",
    "c) Permite que cualquier método acceda y modifique los datos de la clase.\n",
    "\n",
    "d) No tiene ningún impacto en el acceso a los datos de la clase."
   ]
  },
  {
   "cell_type": "markdown",
   "metadata": {},
   "source": [
    "b"
   ]
  },
  {
   "cell_type": "markdown",
   "metadata": {},
   "source": [
    "6.4 Que tipos de métodos y atributos contiene la clase cuentaBancaria? (5%)"
   ]
  },
  {
   "cell_type": "markdown",
   "metadata": {},
   "source": [
    "En el código"
   ]
  },
  {
   "cell_type": "markdown",
   "metadata": {},
   "source": [
    "7. Cree una clase llamada Calculadora que simule una calculadora básica, debe hacer una prueba de escritorio para cada método y realizar el diagrama de clase. (30%) \n",
    "\n",
    "La clase Calculadora debe tener los siguientes métodos:\n",
    "\n",
    "**Suma:** Este método debe tomar dos números como argumentos y devolver la suma de esos números. \n",
    "\n",
    "**Resta:** Este método debe tomar dos números como argumentos y devolver la resta del segundo número al primero. \n",
    "\n",
    "**Multiplicación:** Este método debe tomar dos números como argumentos y devolver el producto de esos números. \n",
    "\n",
    "**División:** Este método debe tomar dos números como argumentos y devolver el resultado de dividir el primero por el segundo. Si el segundo número es 0, debes imprimir un mensaje indicando que la división por cero no está permitida. \n",
    "\n",
    "**Nota:** Antes de realizar cualquier operación, valide que ambos argumentos sean números. Si alguno de los argumentos no es un número, debe imprimir un mensaje indicando que solo se permiten números y no realizar la operación.\n",
    "\n",
    "Además, la clase Calculadora no debe tener ningún atributo de instancia."
   ]
  },
  {
   "cell_type": "markdown",
   "metadata": {},
   "source": [
    "**Éxitos y recuerden que la entrega del parcial se realiza subiendo este notebook al repositorio de github de alguno de los integrantes del grupo.**"
   ]
  },
  {
   "cell_type": "code",
   "execution_count": 9,
   "metadata": {},
   "outputs": [
    {
     "name": "stdout",
     "output_type": "stream",
     "text": [
      "El número debe de ser un entero o un flotante\n",
      "El número debe de ser un entero o un flotante. \n",
      "None\n",
      "El número debe de ser un entero o un flotante. \n",
      "None\n",
      "El número debe de ser un entero o un flotante. \n",
      "None\n",
      "La division por cero no está permitida. \n",
      "None\n",
      "12\n",
      "10\n",
      "-0.5\n",
      "El número debe de ser un entero o un flotante\n"
     ]
    }
   ],
   "source": [
    "\n",
    "class Calculadora:\n",
    "    @classmethod\n",
    "    def suma(cls,numero1,numero2):\n",
    "        if not isinstance(numero1, (int,float)) or not isinstance(numero2, (int,float)): #insistance se encraga de comprobar si el atributo ingresado es del tipo rquerido\n",
    "            return \"El número debe de ser un entero o un flotante\"  \n",
    "        else:\n",
    "            return numero1 + numero2\n",
    "        \n",
    "    @classmethod\n",
    "    def resta(ls,numero1,numero2):\n",
    "        if not isinstance(numero1, (int,float)) or not isinstance(numero2, (int,float)):\n",
    "            return \"El número debe de ser un entero o un flotante.\"\n",
    "        else:\n",
    "            return numero1 - numero2\n",
    "    @classmethod\n",
    "    def multiplicacion(cls,numero1,numero2):\n",
    "        if not isinstance(numero1, (int,float)) or not isinstance(numero2, (int,float)):\n",
    "            return\"El número debe de ser un entero o un flotante. \"\n",
    "        else:\n",
    "            return numero1 * numero2\n",
    "    @classmethod\n",
    "    def division(cls, numero1, numero2):\n",
    "        if not isinstance(numero1, (int,float)) or not isinstance(numero2, (int,float)):\n",
    "            return \"El número debe de ser un entero o un flotante. \"\n",
    "        elif numero2==0:\n",
    "            return \"La division por cero no está permitida. \"\n",
    "        else:\n",
    "            return numero1 / numero2\n",
    "        \n",
    "b=\"p\"\n",
    "c=\"j\"\n",
    "d=\"y\"\n",
    "print(Calculadora.suma(b,c))\n",
    "print(Calculadora.resta(b,c))\n",
    "print(Calculadora.multiplicacion(b,c))\n",
    "print(Calculadora.division(b,c))\n",
    "\n",
    "print(Calculadora.division(2,0))\n",
    "print(Calculadora.suma(3,9))\n",
    "print(Calculadora.multiplicacion(2,5))\n",
    "print(Calculadora.resta(2,2.5))\n",
    "\n",
    "\n",
    "\n",
    "        \n",
    "        "
   ]
  }
 ],
 "metadata": {
  "kernelspec": {
   "display_name": "Python 3",
   "language": "python",
   "name": "python3"
  },
  "language_info": {
   "codemirror_mode": {
    "name": "ipython",
    "version": 3
   },
   "file_extension": ".py",
   "mimetype": "text/x-python",
   "name": "python",
   "nbconvert_exporter": "python",
   "pygments_lexer": "ipython3",
   "version": "3.11.4"
  },
  "orig_nbformat": 4
 },
 "nbformat": 4,
 "nbformat_minor": 2
}
